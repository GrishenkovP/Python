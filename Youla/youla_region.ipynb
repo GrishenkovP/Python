{
 "cells": [
  {
   "cell_type": "code",
   "execution_count": 1,
   "metadata": {},
   "outputs": [],
   "source": [
    "import pandas as pd\n"
   ]
  },
  {
   "cell_type": "code",
   "execution_count": 2,
   "metadata": {},
   "outputs": [],
   "source": [
    "contacts = pd.read_csv('C:/Users/Pavel/Downloads/filter_explore_contacts.csv', sep='\\s+', \n",
    "                       dtype={\"region_id\":str, \"user_id\":str, \"search_id\":str, \"categoty_id\":str, \"subcategory_id\":str,\n",
    "                             \"cnt\":int})"
   ]
  },
  {
   "cell_type": "code",
   "execution_count": 3,
   "metadata": {},
   "outputs": [],
   "source": [
    "views = pd.read_csv('C:/Users/Pavel/Downloads/filter_explore_views.csv', sep='\\s+', \n",
    "                    dtype={\"region_id\":str, \"user_id\":str, \"search_id\":str, \"categoty_id\":str, \"subcategory_id\":str,\n",
    "                             \"cnt\":int})"
   ]
  },
  {
   "cell_type": "code",
   "execution_count": 4,
   "metadata": {},
   "outputs": [],
   "source": [
    "searches = pd.read_csv('C:/Users/Pavel/Downloads/filter_explore_searches.csv', sep='\\s+',\n",
    "                       dtype={\"region_id\":str, \"user_id\":str, \"search_id\":str, \"categoty_id\":str, \"subcategory_id\":str,\n",
    "                             \"default\":str, \"use_category\":str,\"search_text\":str,\"price_filter\":str,\n",
    "                             \"bs_filter\":str, \"discount_filter\":str, \"delivery_filter\":str, \"distance_filter\":str,\n",
    "                             \"publication_filter\":str,\"use_properties\":str, \"sorting_published\":str,\n",
    "                             \"sorting_distance\":str,\"sorting_price\":str })"
   ]
  },
  {
   "cell_type": "code",
   "execution_count": 5,
   "metadata": {},
   "outputs": [],
   "source": [
    "df = pd.merge(searches,views, how=\"left\", on=\"search_id\")"
   ]
  },
  {
   "cell_type": "code",
   "execution_count": 6,
   "metadata": {},
   "outputs": [],
   "source": [
    "df = df.drop(columns=[\"region_id_y\",\"user_id_y\",\"category_id_y\",\"subcategory_id_y\"])\n",
    "df = df.rename(columns={'region_id_x':'region_id','user_id_x':'user_id',\"category_id_x\":'category_id','subcategory_id_x':\"subcategory_id\",\"cnt\":\"cnt_v\"})"
   ]
  },
  {
   "cell_type": "code",
   "execution_count": 7,
   "metadata": {},
   "outputs": [],
   "source": [
    "df = pd.merge(df,contacts, how=\"left\", on=\"search_id\")"
   ]
  },
  {
   "cell_type": "code",
   "execution_count": 8,
   "metadata": {},
   "outputs": [],
   "source": [
    "df = df.drop(columns=[\"region_id_y\",\"user_id_y\",\"category_id_y\",\"subcategory_id_y\"])\n",
    "df = df.rename(columns={'region_id_x':'region_id','user_id_x':'user_id',\"category_id_x\":'category_id','subcategory_id_x':\"subcategory_id\",\"cnt\":\"cnt_c\"})"
   ]
  },
  {
   "cell_type": "code",
   "execution_count": 9,
   "metadata": {},
   "outputs": [],
   "source": [
    "# Заменяем значения NaN - 0, 1,0 - 1, other - 2\n",
    "df=df.fillna(0)\n",
    "df = df.replace('1,0', 1)\n",
    "df = df.replace('other', 2)"
   ]
  },
  {
   "cell_type": "code",
   "execution_count": 10,
   "metadata": {},
   "outputs": [],
   "source": [
    "# Меняем тип столбцов cnt_v, cnt_c\n",
    "df['cnt_v'] = df['cnt_v'].astype('int')\n",
    "df['cnt_c'] = df['cnt_c'].astype('int')"
   ]
  },
  {
   "cell_type": "code",
   "execution_count": 12,
   "metadata": {},
   "outputs": [],
   "source": [
    "df = df.groupby(by=['region_id']).agg({'search_id':'count','cnt_v':'sum','cnt_c':'sum'})"
   ]
  },
  {
   "cell_type": "code",
   "execution_count": 18,
   "metadata": {},
   "outputs": [],
   "source": [
    "df['v%'] = df['cnt_v']/df['search_id']\n",
    "df['c%'] = df['cnt_c']/df['search_id']\n",
    "df['c%v'] = df['cnt_c']/df['cnt_v']"
   ]
  },
  {
   "cell_type": "code",
   "execution_count": 19,
   "metadata": {},
   "outputs": [
    {
     "data": {
      "text/html": [
       "<div>\n",
       "<style scoped>\n",
       "    .dataframe tbody tr th:only-of-type {\n",
       "        vertical-align: middle;\n",
       "    }\n",
       "\n",
       "    .dataframe tbody tr th {\n",
       "        vertical-align: top;\n",
       "    }\n",
       "\n",
       "    .dataframe thead th {\n",
       "        text-align: right;\n",
       "    }\n",
       "</style>\n",
       "<table border=\"1\" class=\"dataframe\">\n",
       "  <thead>\n",
       "    <tr style=\"text-align: right;\">\n",
       "      <th></th>\n",
       "      <th>search_id</th>\n",
       "      <th>cnt_v</th>\n",
       "      <th>cnt_c</th>\n",
       "      <th>v%</th>\n",
       "      <th>c%</th>\n",
       "      <th>c%v</th>\n",
       "    </tr>\n",
       "    <tr>\n",
       "      <th>region_id</th>\n",
       "      <th></th>\n",
       "      <th></th>\n",
       "      <th></th>\n",
       "      <th></th>\n",
       "      <th></th>\n",
       "      <th></th>\n",
       "    </tr>\n",
       "  </thead>\n",
       "  <tbody>\n",
       "    <tr>\n",
       "      <th>D09AD180D0B0D181D0BDD0BED0B4D0B0D180D181D0BAD0B8D0B920D0BAD180D0B0D0B9</th>\n",
       "      <td>1411041</td>\n",
       "      <td>847191</td>\n",
       "      <td>33503</td>\n",
       "      <td>0.600401</td>\n",
       "      <td>0.023743</td>\n",
       "      <td>0.039546</td>\n",
       "    </tr>\n",
       "    <tr>\n",
       "      <th>D0A0D0BED181D182D0BED0B2D181D0BAD0B0D18F20D0BED0B1D0BBD0B0D181D182D18C</th>\n",
       "      <td>537063</td>\n",
       "      <td>325645</td>\n",
       "      <td>12338</td>\n",
       "      <td>0.606344</td>\n",
       "      <td>0.022973</td>\n",
       "      <td>0.037888</td>\n",
       "    </tr>\n",
       "    <tr>\n",
       "      <th>D0A1D0B2D0B5D180D0B4D0BBD0BED0B2D181D0BAD0B0D18F20D0BED0B1D0BBD0B0D181D182D18C</th>\n",
       "      <td>1100232</td>\n",
       "      <td>728291</td>\n",
       "      <td>25470</td>\n",
       "      <td>0.661943</td>\n",
       "      <td>0.023150</td>\n",
       "      <td>0.034972</td>\n",
       "    </tr>\n",
       "    <tr>\n",
       "      <th>D0A2D0B0D182D0B0D180D181D182D0B0D0BD</th>\n",
       "      <td>425080</td>\n",
       "      <td>266726</td>\n",
       "      <td>10239</td>\n",
       "      <td>0.627472</td>\n",
       "      <td>0.024087</td>\n",
       "      <td>0.038388</td>\n",
       "    </tr>\n",
       "  </tbody>\n",
       "</table>\n",
       "</div>"
      ],
      "text/plain": [
       "                                                    search_id   cnt_v  cnt_c  \\\n",
       "region_id                                                                      \n",
       "D09AD180D0B0D181D0BDD0BED0B4D0B0D180D181D0BAD0B...    1411041  847191  33503   \n",
       "D0A0D0BED181D182D0BED0B2D181D0BAD0B0D18F20D0BED...     537063  325645  12338   \n",
       "D0A1D0B2D0B5D180D0B4D0BBD0BED0B2D181D0BAD0B0D18...    1100232  728291  25470   \n",
       "D0A2D0B0D182D0B0D180D181D182D0B0D0BD                   425080  266726  10239   \n",
       "\n",
       "                                                          v%        c%  \\\n",
       "region_id                                                                \n",
       "D09AD180D0B0D181D0BDD0BED0B4D0B0D180D181D0BAD0B...  0.600401  0.023743   \n",
       "D0A0D0BED181D182D0BED0B2D181D0BAD0B0D18F20D0BED...  0.606344  0.022973   \n",
       "D0A1D0B2D0B5D180D0B4D0BBD0BED0B2D181D0BAD0B0D18...  0.661943  0.023150   \n",
       "D0A2D0B0D182D0B0D180D181D182D0B0D0BD                0.627472  0.024087   \n",
       "\n",
       "                                                         c%v  \n",
       "region_id                                                     \n",
       "D09AD180D0B0D181D0BDD0BED0B4D0B0D180D181D0BAD0B...  0.039546  \n",
       "D0A0D0BED181D182D0BED0B2D181D0BAD0B0D18F20D0BED...  0.037888  \n",
       "D0A1D0B2D0B5D180D0B4D0BBD0BED0B2D181D0BAD0B0D18...  0.034972  \n",
       "D0A2D0B0D182D0B0D180D181D182D0B0D0BD                0.038388  "
      ]
     },
     "execution_count": 19,
     "metadata": {},
     "output_type": "execute_result"
    }
   ],
   "source": [
    "df"
   ]
  },
  {
   "cell_type": "code",
   "execution_count": null,
   "metadata": {},
   "outputs": [],
   "source": []
  }
 ],
 "metadata": {
  "kernelspec": {
   "display_name": "Python 3",
   "language": "python",
   "name": "python3"
  },
  "language_info": {
   "codemirror_mode": {
    "name": "ipython",
    "version": 3
   },
   "file_extension": ".py",
   "mimetype": "text/x-python",
   "name": "python",
   "nbconvert_exporter": "python",
   "pygments_lexer": "ipython3",
   "version": "3.7.3"
  }
 },
 "nbformat": 4,
 "nbformat_minor": 2
}
