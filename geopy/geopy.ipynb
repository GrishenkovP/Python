{
  "nbformat": 4,
  "nbformat_minor": 0,
  "metadata": {
    "colab": {
      "name": "geopy.ipynb",
      "provenance": [],
      "collapsed_sections": []
    },
    "kernelspec": {
      "name": "python3",
      "display_name": "Python 3"
    }
  },
  "cells": [
    {
      "cell_type": "code",
      "metadata": {
        "colab": {
          "base_uri": "https://localhost:8080/"
        },
        "id": "donWugOFBFil",
        "outputId": "3398964e-7494-4e7a-e2bb-c1048c583b56"
      },
      "source": [
        "pip install geopy"
      ],
      "execution_count": 1,
      "outputs": [
        {
          "output_type": "stream",
          "text": [
            "Requirement already satisfied: geopy in /usr/local/lib/python3.6/dist-packages (1.17.0)\n",
            "Requirement already satisfied: geographiclib<2,>=1.49 in /usr/local/lib/python3.6/dist-packages (from geopy) (1.50)\n"
          ],
          "name": "stdout"
        }
      ]
    },
    {
      "cell_type": "code",
      "metadata": {
        "colab": {
          "base_uri": "https://localhost:8080/"
        },
        "id": "fYy6m-0EBSf-",
        "outputId": "4081db86-ad2c-4bae-9654-f7fb020c56ed"
      },
      "source": [
        "from geopy.geocoders import Nominatim\r\n",
        "geolocator = Nominatim()\r\n",
        "import numpy as np"
      ],
      "execution_count": 2,
      "outputs": [
        {
          "output_type": "stream",
          "text": [
            "/usr/local/lib/python3.6/dist-packages/geopy/geocoders/osm.py:143: UserWarning: Using Nominatim with the default \"geopy/1.17.0\" `user_agent` is strongly discouraged, as it violates Nominatim's ToS https://operations.osmfoundation.org/policies/nominatim/ and may possibly cause 403 and 429 HTTP errors. Please specify a custom `user_agent` with `Nominatim(user_agent=\"my-application\")` or by overriding the default `user_agent`: `geopy.geocoders.options.default_user_agent = \"my-application\"`. In geopy 2.0 this will become an exception.\n",
            "  UserWarning\n"
          ],
          "name": "stderr"
        }
      ]
    },
    {
      "cell_type": "code",
      "metadata": {
        "id": "Wf3Xjt50Bc3E"
      },
      "source": [
        "def geolocate(city=None, country=None):\r\n",
        "    if city != None:\r\n",
        "        try:\r\n",
        "            loc = geolocator.geocode(str(city + ',' + country))\r\n",
        "            return (loc.latitude, loc.longitude)\r\n",
        "        except:\r\n",
        "            return np.nan\r\n",
        "    else:\r\n",
        "        try:\r\n",
        "            loc = geolocator.geocode(country)\r\n",
        "            return (loc.latitude, loc.longitude)\r\n",
        "        except:\r\n",
        "            return np.nan"
      ],
      "execution_count": 3,
      "outputs": []
    },
    {
      "cell_type": "code",
      "metadata": {
        "colab": {
          "base_uri": "https://localhost:8080/"
        },
        "id": "RlablkUbBhnj",
        "outputId": "49fa079d-a90a-469a-b9a6-8425d965660d"
      },
      "source": [
        "# Геолокация города\r\n",
        "geolocate(city='Orenburg', country='Russia')"
      ],
      "execution_count": 4,
      "outputs": [
        {
          "output_type": "execute_result",
          "data": {
            "text/plain": [
              "(51.767452, 55.097118)"
            ]
          },
          "metadata": {
            "tags": []
          },
          "execution_count": 4
        }
      ]
    }
  ]
}
