{
 "cells": [
  {
   "cell_type": "code",
   "execution_count": 1,
   "metadata": {},
   "outputs": [],
   "source": [
    "import pandas as pd\n",
    "import numpy as np"
   ]
  },
  {
   "cell_type": "code",
   "execution_count": 2,
   "metadata": {},
   "outputs": [],
   "source": [
    "df = pd.read_excel('C:/Users/Pavel/Downloads/dataset.xlsm', sheet_name='Общий')"
   ]
  },
  {
   "cell_type": "code",
   "execution_count": 3,
   "metadata": {},
   "outputs": [],
   "source": [
    "row1 = df.iloc[0,:].fillna(method='ffill')\n",
    "row2 = df.iloc[1,:].fillna(\"\")"
   ]
  },
  {
   "cell_type": "code",
   "execution_count": 4,
   "metadata": {},
   "outputs": [],
   "source": [
    "list_name=[]\n",
    "for i in range(0,row2.count()):\n",
    "    if row2[i]==\"\":\n",
    "        list_name.append(row1[i])\n",
    "    else:\n",
    "        list_name.append(row1[i]+'/'+row2[i])  "
   ]
  },
  {
   "cell_type": "code",
   "execution_count": 5,
   "metadata": {},
   "outputs": [],
   "source": [
    "df.columns=list_name"
   ]
  },
  {
   "cell_type": "code",
   "execution_count": 6,
   "metadata": {},
   "outputs": [],
   "source": [
    "df.drop(df.columns[[3,4,5,6,7,8,9,10]], axis=1,inplace=True)\n",
    "df.drop([0,1],axis=0, inplace=True)"
   ]
  },
  {
   "cell_type": "code",
   "execution_count": 7,
   "metadata": {},
   "outputs": [],
   "source": [
    "list_col1 = df.columns[0:2]\n",
    "list_col2 = df.columns[3:]"
   ]
  },
  {
   "cell_type": "code",
   "execution_count": 8,
   "metadata": {},
   "outputs": [
    {
     "data": {
      "text/html": [
       "<div>\n",
       "<style scoped>\n",
       "    .dataframe tbody tr th:only-of-type {\n",
       "        vertical-align: middle;\n",
       "    }\n",
       "\n",
       "    .dataframe tbody tr th {\n",
       "        vertical-align: top;\n",
       "    }\n",
       "\n",
       "    .dataframe thead th {\n",
       "        text-align: right;\n",
       "    }\n",
       "</style>\n",
       "<table border=\"1\" class=\"dataframe\">\n",
       "  <thead>\n",
       "    <tr style=\"text-align: right;\">\n",
       "      <th></th>\n",
       "      <th>Дата</th>\n",
       "      <th>День</th>\n",
       "      <th>Организация</th>\n",
       "      <th>Показатель</th>\n",
       "      <th>Значение</th>\n",
       "    </tr>\n",
       "  </thead>\n",
       "  <tbody>\n",
       "    <tr>\n",
       "      <th>0</th>\n",
       "      <td>2019-12-01</td>\n",
       "      <td>ВС</td>\n",
       "      <td>ООО \"Строймонтаж\"</td>\n",
       "      <td>План</td>\n",
       "      <td>0</td>\n",
       "    </tr>\n",
       "    <tr>\n",
       "      <th>1</th>\n",
       "      <td>2019-12-01</td>\n",
       "      <td>ВС</td>\n",
       "      <td>ООО \"Строймонтаж\"</td>\n",
       "      <td>План</td>\n",
       "      <td>22</td>\n",
       "    </tr>\n",
       "    <tr>\n",
       "      <th>2</th>\n",
       "      <td>2019-12-01</td>\n",
       "      <td>ВС</td>\n",
       "      <td>ООО \"Строймонтаж\"</td>\n",
       "      <td>План</td>\n",
       "      <td>6</td>\n",
       "    </tr>\n",
       "    <tr>\n",
       "      <th>3</th>\n",
       "      <td>2019-12-02</td>\n",
       "      <td>ПН</td>\n",
       "      <td>ООО \"Строймонтаж\"</td>\n",
       "      <td>План</td>\n",
       "      <td>35</td>\n",
       "    </tr>\n",
       "    <tr>\n",
       "      <th>4</th>\n",
       "      <td>2019-12-02</td>\n",
       "      <td>ПН</td>\n",
       "      <td>ООО \"Строймонтаж\"</td>\n",
       "      <td>План</td>\n",
       "      <td>25</td>\n",
       "    </tr>\n",
       "  </tbody>\n",
       "</table>\n",
       "</div>"
      ],
      "text/plain": [
       "        Дата День        Организация Показатель Значение\n",
       "0 2019-12-01   ВС  ООО \"Строймонтаж\"       План        0\n",
       "1 2019-12-01   ВС  ООО \"Строймонтаж\"       План       22\n",
       "2 2019-12-01   ВС  ООО \"Строймонтаж\"       План        6\n",
       "3 2019-12-02   ПН  ООО \"Строймонтаж\"       План       35\n",
       "4 2019-12-02   ПН  ООО \"Строймонтаж\"       План       25"
      ]
     },
     "execution_count": 8,
     "metadata": {},
     "output_type": "execute_result"
    }
   ],
   "source": [
    "df_new = pd.melt(df, id_vars=list_col1, value_vars=list_col2)\n",
    "df_new[['Организация','Показатель']]=pd.DataFrame(df_new['variable'].str.split('/',1).tolist())\n",
    "df_new.drop(columns=['variable'],inplace=True)\n",
    "df_new.rename(columns={'value': 'Значение'}, inplace=True)\n",
    "df_new = df_new[['Дата','День','Организация','Показатель','Значение']]\n",
    "df_new.fillna(0)\n",
    "df_new.head(5)"
   ]
  },
  {
   "cell_type": "code",
   "execution_count": null,
   "metadata": {},
   "outputs": [],
   "source": []
  }
 ],
 "metadata": {
  "kernelspec": {
   "display_name": "Python 3",
   "language": "python",
   "name": "python3"
  },
  "language_info": {
   "codemirror_mode": {
    "name": "ipython",
    "version": 3
   },
   "file_extension": ".py",
   "mimetype": "text/x-python",
   "name": "python",
   "nbconvert_exporter": "python",
   "pygments_lexer": "ipython3",
   "version": "3.7.3"
  }
 },
 "nbformat": 4,
 "nbformat_minor": 2
}
