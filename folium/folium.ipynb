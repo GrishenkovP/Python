{
  "nbformat": 4,
  "nbformat_minor": 0,
  "metadata": {
    "colab": {
      "name": "folium.ipynb",
      "provenance": [],
      "collapsed_sections": [],
      "toc_visible": true
    },
    "kernelspec": {
      "name": "python3",
      "display_name": "Python 3"
    }
  },
  "cells": [
    {
      "cell_type": "code",
      "metadata": {
        "colab": {
          "base_uri": "https://localhost:8080/"
        },
        "id": "7AnzXcF_CBgG",
        "outputId": "b9379aa3-b147-452d-8585-3bb3c7e5a67b"
      },
      "source": [
        "pip install folium"
      ],
      "execution_count": null,
      "outputs": [
        {
          "output_type": "stream",
          "text": [
            "Requirement already satisfied: folium in /usr/local/lib/python3.6/dist-packages (0.8.3)\n",
            "Requirement already satisfied: requests in /usr/local/lib/python3.6/dist-packages (from folium) (2.23.0)\n",
            "Requirement already satisfied: branca>=0.3.0 in /usr/local/lib/python3.6/dist-packages (from folium) (0.4.1)\n",
            "Requirement already satisfied: jinja2 in /usr/local/lib/python3.6/dist-packages (from folium) (2.11.2)\n",
            "Requirement already satisfied: six in /usr/local/lib/python3.6/dist-packages (from folium) (1.15.0)\n",
            "Requirement already satisfied: numpy in /usr/local/lib/python3.6/dist-packages (from folium) (1.19.4)\n",
            "Requirement already satisfied: idna<3,>=2.5 in /usr/local/lib/python3.6/dist-packages (from requests->folium) (2.10)\n",
            "Requirement already satisfied: chardet<4,>=3.0.2 in /usr/local/lib/python3.6/dist-packages (from requests->folium) (3.0.4)\n",
            "Requirement already satisfied: certifi>=2017.4.17 in /usr/local/lib/python3.6/dist-packages (from requests->folium) (2020.12.5)\n",
            "Requirement already satisfied: urllib3!=1.25.0,!=1.25.1,<1.26,>=1.21.1 in /usr/local/lib/python3.6/dist-packages (from requests->folium) (1.24.3)\n",
            "Requirement already satisfied: MarkupSafe>=0.23 in /usr/local/lib/python3.6/dist-packages (from jinja2->folium) (1.1.1)\n"
          ],
          "name": "stdout"
        }
      ]
    },
    {
      "cell_type": "code",
      "metadata": {
        "id": "Sdx1kRnoCdh6"
      },
      "source": [
        "import folium"
      ],
      "execution_count": null,
      "outputs": []
    },
    {
      "cell_type": "code",
      "metadata": {
        "id": "Nifp-4FYChUA"
      },
      "source": [
        "# Создание базовой карты\r\n",
        "map = folium.Map(location=[51.7727, 55.0988], \r\n",
        "                 zoom_start = 8)\r\n",
        "\r\n",
        "# Данные для нанесения на карту\r\n",
        "coordinates = [[51.7727, 55.0988],[51.20487,58.56685],[52.7807,52.2635],[51.47316,58.4552]]\r\n",
        "sales = [2500,1000,700,500]\r\n",
        "\r\n",
        "# Функция дифференциации меток\r\n",
        "def color_change(x):\r\n",
        "    if(x >= 2000):\r\n",
        "        return('green')\r\n",
        "    elif(x<2000)and(x>=1000):\r\n",
        "        return('orange')\r\n",
        "    else:\r\n",
        "        return('red')\r\n",
        "\r\n",
        "# Подсказка\r\n",
        "tooltip = 'Кликни по значку!'\r\n",
        "\r\n",
        "\r\n",
        "# Добавляем несколько маркеров\r\n",
        "for coordinate, sale in zip(coordinates, sales):\r\n",
        "    folium.Marker(location=[coordinate[0], coordinate[1]],\r\n",
        "                  popup= str(sale)+\" тыс.руб\",\r\n",
        "                  icon=folium.Icon(color = color_change(sale)),\r\n",
        "                  tooltip=tooltip).add_to(map)\r\n",
        "\r\n",
        "map.save(\"map.html\")"
      ],
      "execution_count": 23,
      "outputs": []
    }
  ]
}
