{
 "cells": [
  {
   "cell_type": "code",
   "execution_count": 1,
   "metadata": {},
   "outputs": [],
   "source": [
    "from sqlalchemy import Column, Integer, String, create_engine\n",
    "from sqlalchemy.ext.declarative import declarative_base\n",
    "from sqlalchemy.orm import sessionmaker"
   ]
  },
  {
   "cell_type": "code",
   "execution_count": 2,
   "metadata": {},
   "outputs": [],
   "source": [
    "# Соединение с БД\n",
    "engine = create_engine('sqlite:///:memory:', echo=True)"
   ]
  },
  {
   "cell_type": "code",
   "execution_count": 3,
   "metadata": {},
   "outputs": [],
   "source": [
    "# Декларативное создание таблицы, класса и отображения за один раз\n",
    "Base = declarative_base()\n",
    "# Создание таблицы в БД\n",
    "class User(Base):\n",
    "    __tablename__ = 'users'\n",
    "    id = Column(Integer, primary_key=True)\n",
    "    name = Column(String)\n",
    "    fullname = Column(String)\n",
    "    password = Column(String)\n",
    "# Определение класса для отображения в таблицу   \n",
    "    def __init__(self, name, fullname, password):\n",
    "        self.name = name\n",
    "        self.fullname = fullname\n",
    "        self.password = password\n",
    "    def __repr__(self):\n",
    "        return \"<User('%s','%s', '%s')>\" % (self.name, self.fullname, self.password)"
   ]
  },
  {
   "cell_type": "code",
   "execution_count": 4,
   "metadata": {},
   "outputs": [
    {
     "name": "stdout",
     "output_type": "stream",
     "text": [
      "2020-03-15 00:12:22,597 INFO sqlalchemy.engine.base.Engine SELECT CAST('test plain returns' AS VARCHAR(60)) AS anon_1\n",
      "2020-03-15 00:12:22,612 INFO sqlalchemy.engine.base.Engine ()\n",
      "2020-03-15 00:12:22,612 INFO sqlalchemy.engine.base.Engine SELECT CAST('test unicode returns' AS VARCHAR(60)) AS anon_1\n",
      "2020-03-15 00:12:22,612 INFO sqlalchemy.engine.base.Engine ()\n",
      "2020-03-15 00:12:22,612 INFO sqlalchemy.engine.base.Engine PRAGMA main.table_info(\"users\")\n",
      "2020-03-15 00:12:22,620 INFO sqlalchemy.engine.base.Engine ()\n",
      "2020-03-15 00:12:22,622 INFO sqlalchemy.engine.base.Engine PRAGMA temp.table_info(\"users\")\n",
      "2020-03-15 00:12:22,624 INFO sqlalchemy.engine.base.Engine ()\n",
      "2020-03-15 00:12:22,627 INFO sqlalchemy.engine.base.Engine \n",
      "CREATE TABLE users (\n",
      "\tid INTEGER NOT NULL, \n",
      "\tname VARCHAR, \n",
      "\tfullname VARCHAR, \n",
      "\tpassword VARCHAR, \n",
      "\tPRIMARY KEY (id)\n",
      ")\n",
      "\n",
      "\n",
      "2020-03-15 00:12:22,628 INFO sqlalchemy.engine.base.Engine ()\n",
      "2020-03-15 00:12:22,630 INFO sqlalchemy.engine.base.Engine COMMIT\n"
     ]
    }
   ],
   "source": [
    "# Создание таблицы\n",
    "Base.metadata.create_all(engine)"
   ]
  },
  {
   "cell_type": "code",
   "execution_count": 5,
   "metadata": {},
   "outputs": [],
   "source": [
    "# Создание сессии\n",
    "Session = sessionmaker(bind = engine)\n",
    "session = Session()"
   ]
  },
  {
   "cell_type": "code",
   "execution_count": 6,
   "metadata": {},
   "outputs": [
    {
     "name": "stdout",
     "output_type": "stream",
     "text": [
      "2020-03-15 00:12:22,795 INFO sqlalchemy.engine.base.Engine BEGIN (implicit)\n",
      "2020-03-15 00:12:22,795 INFO sqlalchemy.engine.base.Engine INSERT INTO users (name, fullname, password) VALUES (?, ?, ?)\n",
      "2020-03-15 00:12:22,795 INFO sqlalchemy.engine.base.Engine ('Alexander', 'Alexander Smith', '123*')\n",
      "2020-03-15 00:12:22,811 INFO sqlalchemy.engine.base.Engine COMMIT\n"
     ]
    }
   ],
   "source": [
    "# Добавление новых пользователей. Вариант 1\n",
    "user1 = User(\"Alexander\", \"Alexander Smith\", \"123*\")\n",
    "session.add(user1)\n",
    "session.commit()"
   ]
  },
  {
   "cell_type": "code",
   "execution_count": 7,
   "metadata": {},
   "outputs": [
    {
     "name": "stdout",
     "output_type": "stream",
     "text": [
      "2020-03-15 00:12:22,886 INFO sqlalchemy.engine.base.Engine BEGIN (implicit)\n",
      "2020-03-15 00:12:22,887 INFO sqlalchemy.engine.base.Engine INSERT INTO users (name, fullname, password) VALUES (?, ?, ?)\n",
      "2020-03-15 00:12:22,888 INFO sqlalchemy.engine.base.Engine ('Daniel', 'Daniel Johnson', '456*')\n",
      "2020-03-15 00:12:22,889 INFO sqlalchemy.engine.base.Engine INSERT INTO users (name, fullname, password) VALUES (?, ?, ?)\n",
      "2020-03-15 00:12:22,889 INFO sqlalchemy.engine.base.Engine ('Logan', 'Logan Miller', '789*')\n",
      "2020-03-15 00:12:22,890 INFO sqlalchemy.engine.base.Engine INSERT INTO users (name, fullname, password) VALUES (?, ?, ?)\n",
      "2020-03-15 00:12:22,891 INFO sqlalchemy.engine.base.Engine ('David', 'David Taylor', '000*')\n",
      "2020-03-15 00:12:22,893 INFO sqlalchemy.engine.base.Engine COMMIT\n"
     ]
    }
   ],
   "source": [
    "# Добавление новых пользователей. Вариант 2\n",
    "session.add_all([\n",
    "   User(name = \"Daniel\", fullname = \"Daniel Johnson\", password = \"456*\"), \n",
    "   User(name = \"Logan\", fullname = \"Logan Miller\", password = \"789*\"), \n",
    "   User(name = \"David\", fullname = \"David Taylor\", password = \"000*\")]\n",
    ")\n",
    "session.commit()"
   ]
  },
  {
   "cell_type": "code",
   "execution_count": 8,
   "metadata": {},
   "outputs": [
    {
     "name": "stdout",
     "output_type": "stream",
     "text": [
      "2020-03-15 00:12:22,950 INFO sqlalchemy.engine.base.Engine BEGIN (implicit)\n",
      "2020-03-15 00:12:22,951 INFO sqlalchemy.engine.base.Engine SELECT users.id AS users_id, users.name AS users_name, users.fullname AS users_fullname, users.password AS users_password \n",
      "FROM users ORDER BY users.id\n",
      "2020-03-15 00:12:22,952 INFO sqlalchemy.engine.base.Engine ()\n",
      "Alexander Alexander Smith\n",
      "Daniel Daniel Johnson\n",
      "Logan Logan Miller\n",
      "David David Taylor\n"
     ]
    }
   ],
   "source": [
    "# Запросы. Вариант 1\n",
    "for instance in session.query(User).order_by(User.id): \n",
    "    print (instance.name, instance.fullname)"
   ]
  },
  {
   "cell_type": "code",
   "execution_count": 9,
   "metadata": {},
   "outputs": [
    {
     "name": "stdout",
     "output_type": "stream",
     "text": [
      "2020-03-15 00:12:23,017 INFO sqlalchemy.engine.base.Engine SELECT users.name AS users_name, users.fullname AS users_fullname \n",
      "FROM users\n",
      "2020-03-15 00:12:23,018 INFO sqlalchemy.engine.base.Engine ()\n",
      "Alexander Alexander Smith\n",
      "Daniel Daniel Johnson\n",
      "Logan Logan Miller\n",
      "David David Taylor\n"
     ]
    }
   ],
   "source": [
    "# Запросы. Вариант 2\n",
    "for name, fullname in session.query(User.name, User.fullname): \n",
    "    print (name, fullname)"
   ]
  },
  {
   "cell_type": "code",
   "execution_count": 10,
   "metadata": {},
   "outputs": [
    {
     "name": "stdout",
     "output_type": "stream",
     "text": [
      "2020-03-15 00:12:23,096 INFO sqlalchemy.engine.base.Engine SELECT users.id AS users_id, users.name AS users_name, users.fullname AS users_fullname, users.password AS users_password \n",
      "FROM users\n",
      "2020-03-15 00:12:23,112 INFO sqlalchemy.engine.base.Engine ()\n",
      "<User('Alexander','Alexander Smith', '123*')> Alexander\n",
      "<User('Daniel','Daniel Johnson', '456*')> Daniel\n",
      "<User('Logan','Logan Miller', '789*')> Logan\n",
      "<User('David','David Taylor', '000*')> David\n"
     ]
    }
   ],
   "source": [
    "# Запросы. Вариант 3\n",
    "for row in session.query(User, User.name).all(): \n",
    "    print (row.User, row.name)"
   ]
  },
  {
   "cell_type": "code",
   "execution_count": 11,
   "metadata": {},
   "outputs": [
    {
     "name": "stdout",
     "output_type": "stream",
     "text": [
      "2020-03-15 00:12:23,184 INFO sqlalchemy.engine.base.Engine SELECT users.id AS users_id, users.name AS users_name, users.fullname AS users_fullname, users.password AS users_password \n",
      "FROM users ORDER BY users.id\n",
      " LIMIT ? OFFSET ?\n",
      "2020-03-15 00:12:23,185 INFO sqlalchemy.engine.base.Engine (2, 0)\n",
      "Alexander Alexander Smith\n",
      "Daniel Daniel Johnson\n"
     ]
    }
   ],
   "source": [
    "# Запросы. Срезы (LIMIT)\n",
    "for instance in session.query(User).order_by(User.id) [0:2]: \n",
    "    print (instance.name, instance.fullname)"
   ]
  },
  {
   "cell_type": "code",
   "execution_count": 12,
   "metadata": {},
   "outputs": [
    {
     "name": "stdout",
     "output_type": "stream",
     "text": [
      "2020-03-15 00:12:23,261 INFO sqlalchemy.engine.base.Engine SELECT users.id AS users_id, users.name AS users_name, users.fullname AS users_fullname, users.password AS users_password \n",
      "FROM users \n",
      "WHERE users.fullname = ?\n",
      "2020-03-15 00:12:23,262 INFO sqlalchemy.engine.base.Engine ('Daniel Johnson',)\n",
      "Daniel Daniel Johnson\n"
     ]
    }
   ],
   "source": [
    "# Запросы. Фильтрация результатов\n",
    "for instance in session.query(User).filter(User.fullname=='Daniel Johnson'): \n",
    "    print (instance.name, instance.fullname)"
   ]
  },
  {
   "cell_type": "code",
   "execution_count": 13,
   "metadata": {},
   "outputs": [
    {
     "name": "stdout",
     "output_type": "stream",
     "text": [
      "2020-03-15 00:12:23,365 INFO sqlalchemy.engine.base.Engine SELECT users.id AS users_id, users.name AS users_name, users.fullname AS users_fullname, users.password AS users_password \n",
      "FROM users \n",
      "WHERE users.password LIKE ?\n",
      "2020-03-15 00:12:23,366 INFO sqlalchemy.engine.base.Engine ('0%',)\n",
      "David David Taylor 000*\n"
     ]
    }
   ],
   "source": [
    "# Запросы. Подобно\n",
    "for instance in session.query(User).filter(User.password.like(\"0%\")): \n",
    "    print (instance.name, instance.fullname, instance.password)"
   ]
  },
  {
   "cell_type": "code",
   "execution_count": 14,
   "metadata": {},
   "outputs": [
    {
     "name": "stdout",
     "output_type": "stream",
     "text": [
      "2020-03-15 00:12:23,438 INFO sqlalchemy.engine.base.Engine SELECT users.id AS users_id, users.name AS users_name, users.fullname AS users_fullname, users.password AS users_password \n",
      "FROM users \n",
      "WHERE users.password IN (?, ?)\n",
      "2020-03-15 00:12:23,439 INFO sqlalchemy.engine.base.Engine ('123*', '456*')\n",
      "Alexander Alexander Smith 123*\n",
      "Daniel Daniel Johnson 456*\n"
     ]
    }
   ],
   "source": [
    "# Запросы. Метод IN\n",
    "for instance in session.query(User).filter(User.password.in_(['123*','456*'])):\n",
    "    print (instance.name, instance.fullname, instance.password)"
   ]
  },
  {
   "cell_type": "code",
   "execution_count": 15,
   "metadata": {},
   "outputs": [
    {
     "name": "stdout",
     "output_type": "stream",
     "text": [
      "2020-03-15 00:12:23,506 INFO sqlalchemy.engine.base.Engine SELECT users.id AS users_id, users.name AS users_name, users.fullname AS users_fullname, users.password AS users_password \n",
      "FROM users \n",
      "WHERE users.name = ?\n",
      "2020-03-15 00:12:23,507 INFO sqlalchemy.engine.base.Engine ('Daniel',)\n",
      "Daniel Daniel Johnson 456*\n"
     ]
    }
   ],
   "source": [
    "# Запросы. Методы AND / OR\n",
    "for instance in session.query(User).filter(((User.name =='Daniel') and (User.password.in_(['123*','456*'])))):\n",
    "    print (instance.name, instance.fullname, instance.password)"
   ]
  }
 ],
 "metadata": {
  "kernelspec": {
   "display_name": "Python 3",
   "language": "python",
   "name": "python3"
  },
  "language_info": {
   "codemirror_mode": {
    "name": "ipython",
    "version": 3
   },
   "file_extension": ".py",
   "mimetype": "text/x-python",
   "name": "python",
   "nbconvert_exporter": "python",
   "pygments_lexer": "ipython3",
   "version": "3.7.4"
  }
 },
 "nbformat": 4,
 "nbformat_minor": 4
}
