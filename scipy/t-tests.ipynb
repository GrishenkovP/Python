{
  "nbformat": 4,
  "nbformat_minor": 0,
  "metadata": {
    "colab": {
      "name": "t-tests.ipynb",
      "provenance": [],
      "collapsed_sections": []
    },
    "kernelspec": {
      "name": "python3",
      "display_name": "Python 3"
    }
  },
  "cells": [
    {
      "cell_type": "code",
      "metadata": {
        "id": "h4VanguqGsOP"
      },
      "source": [
        "from scipy import stats\r\n",
        "import numpy as np"
      ],
      "execution_count": 1,
      "outputs": []
    },
    {
      "cell_type": "code",
      "metadata": {
        "id": "RJVfg1BKG3hD"
      },
      "source": [
        "# Создаем данные\r\n",
        "x = np.random.normal(1, 1.5, 20)\r\n",
        "y = np.random.normal(0, 1.5, 20)"
      ],
      "execution_count": 2,
      "outputs": []
    },
    {
      "cell_type": "code",
      "metadata": {
        "colab": {
          "base_uri": "https://localhost:8080/"
        },
        "id": "2gn-Av2GHqv7",
        "outputId": "f4e5df4b-f3c7-4665-86c6-825da714d9bd"
      },
      "source": [
        "# Тест Шапиро-Уилка\r\n",
        "stat, p = stats.shapiro(x)\r\n",
        "print('Statistics=%.3f, p-value=%.3f' % (stat, p))\r\n",
        "alpha = 0.05\r\n",
        "if p > alpha:\r\n",
        "    print('Принять гипотезу о нормальности')\r\n",
        "else:\r\n",
        "    print('Отклонить гипотезу о нормальности')"
      ],
      "execution_count": 3,
      "outputs": [
        {
          "output_type": "stream",
          "text": [
            "Statistics=0.973, p-value=0.817\n",
            "Принять гипотезу о нормальности\n"
          ],
          "name": "stdout"
        }
      ]
    },
    {
      "cell_type": "code",
      "metadata": {
        "colab": {
          "base_uri": "https://localhost:8080/"
        },
        "id": "RYFqAuA_IQ3s",
        "outputId": "bbdf3f6a-dbc8-4c87-e140-c0ff903e7ca8"
      },
      "source": [
        "# Критерий Пирсона\r\n",
        "stat, p = stats.normaltest(y)\r\n",
        "print('Statistics=%.3f, p-value=%.3f' % (stat, p))\r\n",
        "alpha = 0.05\r\n",
        "if p > alpha:\r\n",
        "    print('Принять гипотезу о нормальности')\r\n",
        "else:\r\n",
        "    print('Отклонить гипотезу о нормальности')"
      ],
      "execution_count": 4,
      "outputs": [
        {
          "output_type": "stream",
          "text": [
            "Statistics=1.524, p-value=0.467\n",
            "Принять гипотезу о нормальности\n"
          ],
          "name": "stdout"
        }
      ]
    },
    {
      "cell_type": "code",
      "metadata": {
        "colab": {
          "base_uri": "https://localhost:8080/"
        },
        "id": "w45XUDKnJJCM",
        "outputId": "cf06797d-dcdc-4c85-842e-7b8b67100c7a"
      },
      "source": [
        "# t-тест, статистически значимо ли среднее значение x отличается от 0\r\n",
        "pvalue = stats.ttest_1samp(x, 0)[1]\r\n",
        "\r\n",
        "# Значение p-value\r\n",
        "pvalue"
      ],
      "execution_count": 5,
      "outputs": [
        {
          "output_type": "execute_result",
          "data": {
            "text/plain": [
              "0.0026051508958319608"
            ]
          },
          "metadata": {
            "tags": []
          },
          "execution_count": 5
        }
      ]
    },
    {
      "cell_type": "code",
      "metadata": {
        "colab": {
          "base_uri": "https://localhost:8080/"
        },
        "id": "3AHi0a71J_V7",
        "outputId": "2a835a7e-55a5-4697-a63f-e578dd580912"
      },
      "source": [
        "#  t-тест двух независимых выборок\r\n",
        "stats.ttest_ind(x, y)[1]"
      ],
      "execution_count": 6,
      "outputs": [
        {
          "output_type": "execute_result",
          "data": {
            "text/plain": [
              "0.01765041212161635"
            ]
          },
          "metadata": {
            "tags": []
          },
          "execution_count": 6
        }
      ]
    },
    {
      "cell_type": "code",
      "metadata": {
        "colab": {
          "base_uri": "https://localhost:8080/"
        },
        "id": "V5iQZtc2KgZ7",
        "outputId": "97b72749-14c0-4a62-f903-0b33db3a5fa0"
      },
      "source": [
        "# t-тест двух зависимых выборок\r\n",
        "stats.ttest_rel(x, y)[1]"
      ],
      "execution_count": 7,
      "outputs": [
        {
          "output_type": "execute_result",
          "data": {
            "text/plain": [
              "0.036701069578285124"
            ]
          },
          "metadata": {
            "tags": []
          },
          "execution_count": 7
        }
      ]
    }
  ]
}
